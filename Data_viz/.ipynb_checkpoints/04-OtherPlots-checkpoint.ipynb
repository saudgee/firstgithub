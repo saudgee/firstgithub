{
 "cells": [
  {
   "cell_type": "markdown",
   "id": "41b01e9c",
   "metadata": {},
   "source": [
    "# Line Plot with Multifacets"
   ]
  },
  {
   "cell_type": "code",
   "execution_count": 11,
   "id": "374307b3",
   "metadata": {},
   "outputs": [
    {
     "data": {
      "text/plain": [
       "<seaborn.axisgrid.FacetGrid at 0x19c7908f640>"
      ]
     },
     "execution_count": 11,
     "metadata": {},
     "output_type": "execute_result"
    },
    {
     "data": {
      "image/png": "[encoded data removed]",
      "text/plain": [
       "<Figure size 360x360 with 1 Axes>"
      ]
     },
     "metadata": {
      "needs_background": "light"
     },
     "output_type": "display_data"
    }
   ],
   "source": [
    "import seaborn as sns\n",
    "import numpy as np\n",
    "import matplotlib.pyplot as plt\n",
    "import pandas as pd\n",
    "\n",
    "kashti = sns.load_dataset('titanic')\n",
    "\n",
    "#   defining the color palette\n",
    "palette = sns.color_palette('rocket_r')\n",
    "\n",
    "# Plot Lineplot\n",
    "\n",
    "sns.relplot(data = kashti)\n",
    "\n"
   ]
  }
 ],
 "metadata": {
  "kernelspec": {
   "display_name": "Python 3 (ipykernel)",
   "language": "python",
   "name": "python3"
  },
  "language_info": {
   "codemirror_mode": {
    "name": "ipython",
    "version": 3
   },
   "file_extension": ".py",
   "mimetype": "text/x-python",
   "name": "python",
   "nbconvert_exporter": "python",
   "pygments_lexer": "ipython3",
   "version": "3.9.7"
  }
 },
 "nbformat": 4,
 "nbformat_minor": 5
}
