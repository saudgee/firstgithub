{
 "cells": [
  {
   "cell_type": "code",
   "execution_count": null,
   "id": "8867c0f4",
   "metadata": {},
   "outputs": [],
   "source": [
    "import numpy as np\n",
    "a = np.arange(0,16,1.1)\n",
    "a"
   ]
  },
  {
   "cell_type": "code",
   "execution_count": null,
   "id": "f2e4462e",
   "metadata": {},
   "outputs": [],
   "source": [
    "import numpy as np\n",
    "a = np.linspace(0,10, num=25)\n",
    "a"
   ]
  },
  {
   "cell_type": "code",
   "execution_count": null,
   "id": "031e20df",
   "metadata": {},
   "outputs": [],
   "source": [
    "import numpy as np\n",
    "col = int(input(\"Enter colmun size \"))\n",
    "row = int(input(\"Enter row size \"))\n",
    "matrix = np.ndarray(shape=(row,col), dtype=np.float32)\n",
    "matrix"
   ]
  },
  {
   "cell_type": "code",
   "execution_count": null,
   "id": "e976a465",
   "metadata": {},
   "outputs": [],
   "source": [
    "import numpy as np\n",
    "import matplotlib.pyplot as plt\n",
    "def mandelbrot(h, w, maxit=50, r=4):\n",
    "    \"\"\"Returns an image of the Mandelbrot fractal of size (h,w).\"\"\"\n",
    "    x = np.linspace(-2.5, 1.5, 4*h+1)\n",
    "    y = np.linspace(-1.5, 1.5, 3*w+1)\n",
    "    A, B = np.meshgrid(x, y)\n",
    "    C = A + B*1j\n",
    "    z = np.zeros_like(C)\n",
    "    divtime = maxit + np.zeros(z.shape, dtype=int)\n",
    "\n",
    "    for i in range(maxit):\n",
    "        z = z**2 + C\n",
    "        diverge = abs(z) > r\n",
    "        div_now = diverge & (divtime == maxit) # who is diverging now\n",
    "        divtime[div_now] = i # note when\n",
    "        z[diverge] = r # avoid diverging too much\n",
    "\n",
    "    return divtime\n",
    "plt.imshow(mandelbrot(200, 200))"
   ]
  },
  {
   "cell_type": "code",
   "execution_count": null,
   "id": "fd296284",
   "metadata": {},
   "outputs": [],
   "source": [
    "import numpy as np\n",
    "a = np.arange(24).reshape(3,2,4)\n",
    "a"
   ]
  },
  {
   "cell_type": "code",
   "execution_count": null,
   "id": "c3415f84",
   "metadata": {},
   "outputs": [],
   "source": [
    "import numpy as np\n",
    "numb = np.arange(5)\n",
    "numb"
   ]
  },
  {
   "cell_type": "code",
   "execution_count": null,
   "id": "6d794c0a",
   "metadata": {},
   "outputs": [],
   "source": [
    "import numpy as np\n",
    "a = np.arange(32).reshape(4,2,4)\n",
    "a"
   ]
  },
  {
   "cell_type": "code",
   "execution_count": null,
   "id": "392d4903",
   "metadata": {},
   "outputs": [],
   "source": [
    "import numpy as np\n",
    "food = np.array(['pakora', 'samosa', 'raita'])\n",
    "food"
   ]
  },
  {
   "cell_type": "code",
   "execution_count": null,
   "id": "26481016",
   "metadata": {},
   "outputs": [],
   "source": [
    "food[2]"
   ]
  },
  {
   "cell_type": "code",
   "execution_count": null,
   "id": "c6337dd1",
   "metadata": {},
   "outputs": [],
   "source": [
    "type(food)"
   ]
  },
  {
   "cell_type": "code",
   "execution_count": null,
   "id": "ae9890bf",
   "metadata": {},
   "outputs": [],
   "source": [
    "type(food[0])"
   ]
  },
  {
   "cell_type": "code",
   "execution_count": null,
   "id": "4f5cd839",
   "metadata": {},
   "outputs": [],
   "source": [
    "len(food)"
   ]
  },
  {
   "cell_type": "code",
   "execution_count": null,
   "id": "da26c288",
   "metadata": {},
   "outputs": [],
   "source": [
    "len(food[0])"
   ]
  },
  {
   "cell_type": "code",
   "execution_count": null,
   "id": "97bd6407",
   "metadata": {},
   "outputs": [],
   "source": [
    "len(food[2])"
   ]
  },
  {
   "cell_type": "code",
   "execution_count": null,
   "id": "db243fc1",
   "metadata": {},
   "outputs": [],
   "source": [
    "import numpy as np\n",
    "number = np.arange(12)\n",
    "number"
   ]
  },
  {
   "cell_type": "code",
   "execution_count": null,
   "id": "0a26b6f7",
   "metadata": {},
   "outputs": [],
   "source": [
    "import numpy as np\n",
    "np.ones(5, dtype=int)"
   ]
  },
  {
   "cell_type": "code",
   "execution_count": null,
   "id": "f399c951",
   "metadata": {},
   "outputs": [],
   "source": [
    "a=np.zeros(5, dtype=float)\n",
    "print(a,)\n",
    "print(type(a))\n",
    "type(a[1])"
   ]
  },
  {
   "cell_type": "code",
   "execution_count": null,
   "id": "8324eac6",
   "metadata": {},
   "outputs": [],
   "source": [
    "b=np.arange(5,10)\n",
    "b"
   ]
  },
  {
   "cell_type": "code",
   "execution_count": null,
   "id": "1ed51b1c",
   "metadata": {},
   "outputs": [],
   "source": [
    "\n",
    "np.empty(4)"
   ]
  },
  {
   "cell_type": "code",
   "execution_count": null,
   "id": "9c99b850",
   "metadata": {},
   "outputs": [],
   "source": [
    "tb = np.arange(0,51,5)\n",
    "tb"
   ]
  },
  {
   "cell_type": "code",
   "execution_count": null,
   "id": "4a200698",
   "metadata": {
    "scrolled": true
   },
   "outputs": [],
   "source": [
    "lin = np.linspace(0,50, num=11)\n",
    "lin"
   ]
  },
  {
   "cell_type": "code",
   "execution_count": null,
   "id": "6b3dd2b0",
   "metadata": {},
   "outputs": [],
   "source": [
    "import numpy as np\n",
    "tb = np.arange(0,56,5)\n",
    "tbr=tb.reshape(2,2,3)\n",
    "print(tb)\n",
    "print(tbr)\n",
    "print(len(tb))\n",
    "lin = np.linspace(0,50, num=21)\n",
    "print(lin)\n",
    "print(len(lin))\n",
    "c = np.concatenate((tb, lin))\n",
    "print(c)\n",
    "c.sort()\n",
    "print(c)\n",
    "print(type(c))\n",
    "print(type(c[5]))\n",
    "print(len(c))"
   ]
  },
  {
   "cell_type": "code",
   "execution_count": null,
   "id": "d02e7ade",
   "metadata": {},
   "outputs": [],
   "source": [
    "import numpy as np\n",
    "tb = np.arange(0,56,5)\n",
    "tbr=tb.reshape(2,6)\n",
    "print(tb)\n",
    "print(tbr)\n",
    "print(len(tb))\n",
    "lin = np.linspace(60,71, num=12)\n",
    "print(lin)\n",
    "print(len(lin))\n",
    "linr = lin.reshape(2,6)\n",
    "print(linr)\n",
    "print(len(linr))\n",
    "c = np.concatenate((tbr, linr), axis=0)\n",
    "print(c)"
   ]
  },
  {
   "cell_type": "code",
   "execution_count": null,
   "id": "3b30f8ff",
   "metadata": {},
   "outputs": [],
   "source": [
    "import numpy as np\n",
    "tb = np.arange(0,56,5)\n",
    "tbr=tb.reshape(2,6)\n",
    "print(tb)\n",
    "print(tbr)\n",
    "print(len(tb))\n",
    "lin = np.linspace(60,71, num=12)\n",
    "print(lin)\n",
    "print(len(lin))\n",
    "linr = lin.reshape(2,6)\n",
    "print(linr)\n",
    "print(len(linr))\n",
    "c = np.concatenate((tbr, linr), axis=1)\n",
    "print(c)"
   ]
  },
  {
   "cell_type": "code",
   "execution_count": null,
   "id": "ac048920",
   "metadata": {},
   "outputs": [],
   "source": [
    "import numpy as np\n",
    "tb = np.arange(0,56,5)\n",
    "tbr=tb.reshape(2,2,3)\n",
    "print(tb)\n",
    "print(tbr)\n",
    "print(len(tb))\n",
    "lin = np.linspace(100,111, num=12)\n",
    "print(lin)\n",
    "print(len(lin))\n",
    "linr = lin.reshape(2,2,3)\n",
    "print(linr)\n",
    "print(len(linr))\n",
    "c = np.concatenate((tbr, linr), axis=0)\n",
    "print(c)"
   ]
  },
  {
   "cell_type": "code",
   "execution_count": null,
   "id": "c092d06c",
   "metadata": {},
   "outputs": [],
   "source": [
    "import numpy as np\n",
    "tb = np.arange(0,56,5)\n",
    "tbr=tb.reshape(2,2,3)\n",
    "print(tb)\n",
    "print(tbr)\n",
    "print(len(tb))\n",
    "lin = np.linspace(100,111, num=12)\n",
    "print(lin)\n",
    "print(len(lin))\n",
    "linr = lin.reshape(2,2,3)\n",
    "print(linr)\n",
    "print(len(linr))\n",
    "c = np.concatenate((tbr, linr), axis=1)\n",
    "print(c)"
   ]
  },
  {
   "cell_type": "code",
   "execution_count": null,
   "id": "1db276fc",
   "metadata": {},
   "outputs": [],
   "source": [
    "import numpy as np\n",
    "tb = np.arange(0,56,5)\n",
    "tbr=tb.reshape(2,2,3)\n",
    "print(tb)\n",
    "print(tbr)\n",
    "print(len(tb))\n",
    "lin = np.linspace(100,111, num=12)\n",
    "print(lin)\n",
    "print(len(lin))\n",
    "linr = lin.reshape(2,2,3)\n",
    "print(linr)\n",
    "print(len(linr))\n",
    "c = np.concatenate((tbr, linr), axis=2)\n",
    "print(c)\n",
    "c.ndim"
   ]
  },
  {
   "cell_type": "code",
   "execution_count": null,
   "id": "a9b27e00",
   "metadata": {},
   "outputs": [],
   "source": [
    "import numpy as np\n",
    "a = np.array([[1,2,3,4,5],[11,22,33,44,55]])\n",
    "print(a)"
   ]
  },
  {
   "cell_type": "code",
   "execution_count": 4,
   "id": "909dea67",
   "metadata": {},
   "outputs": [
    {
     "name": "stdout",
     "output_type": "stream",
     "text": [
      "[[ 1  2  3  4  5  6]\n",
      " [11 22 33 44 55 66]]\n",
      "(2, 6)\n",
      "2\n",
      "<class 'numpy.ndarray'>\n",
      "[[[ 1  2]\n",
      "  [ 3  4]\n",
      "  [ 5  6]]\n",
      "\n",
      " [[11 22]\n",
      "  [33 44]\n",
      "  [55 66]]]\n",
      "3\n",
      "12 12\n",
      "(2, 3, 2)\n"
     ]
    }
   ],
   "source": [
    "import numpy as np\n",
    "a = np.array([[1,2,3,4,5,6],[11,22,33,44,55,66]])\n",
    "print(a)\n",
    "print(np.shape(a))\n",
    "print(a.ndim)\n",
    "print(type(a))\n",
    "b = a.reshape(2,3,2)\n",
    "print(b)\n",
    "print(b.ndim)\n",
    "print(a.size, b.size)\n",
    "print(b.shape)\n"
   ]
  },
  {
   "cell_type": "code",
   "execution_count": 9,
   "id": "0e669793",
   "metadata": {},
   "outputs": [
    {
     "name": "stdout",
     "output_type": "stream",
     "text": [
      "[0 1 2 3 4 5 6 7 8]\n",
      "9 1\n"
     ]
    }
   ],
   "source": [
    "import numpy as np\n",
    "d = np.arange(9)\n",
    "print(d)\n",
    "print(d.size, d.ndim)"
   ]
  },
  {
   "cell_type": "code",
   "execution_count": 52,
   "id": "28325fe0",
   "metadata": {},
   "outputs": [
    {
     "name": "stdout",
     "output_type": "stream",
     "text": [
      "[0 1 2 3 4 5 6 7 8]\n",
      "9 1\n",
      "[[0 1 2 3 4 5 6 7 8]]\n",
      "9 2 (1, 9)\n",
      "[[0]\n",
      " [1]\n",
      " [2]\n",
      " [3]\n",
      " [4]\n",
      " [5]\n",
      " [6]\n",
      " [7]\n",
      " [8]]\n",
      "9 2 (9, 1)\n",
      "[[ 0  0  0  0  0  0  0  0  0]\n",
      " [ 0  1  2  3  4  5  6  7  8]\n",
      " [ 0  2  4  6  8 10 12 14 16]\n",
      " [ 0  3  6  9 12 15 18 21 24]\n",
      " [ 0  4  8 12 16 20 24 28 32]\n",
      " [ 0  5 10 15 20 25 30 35 40]\n",
      " [ 0  6 12 18 24 30 36 42 48]\n",
      " [ 0  7 14 21 28 35 42 49 56]\n",
      " [ 0  8 16 24 32 40 48 56 64]]\n",
      "81 2 (9, 9)\n"
     ]
    },
    {
     "data": {
      "text/plain": [
       "16.055459438389725"
      ]
     },
     "execution_count": 52,
     "metadata": {},
     "output_type": "execute_result"
    }
   ],
   "source": [
    "import numpy as np\n",
    "d = np.arange(9)\n",
    "print(d)\n",
    "print(d.size, d.ndim)\n",
    "e = d[np.newaxis, 0:9:1]\n",
    "print(e)\n",
    "print(e.size, e.ndim, e.shape)\n",
    "f = d[0:9:1, np.newaxis]\n",
    "print(f)\n",
    "print(f.size, f.ndim, f.shape)\n",
    "x = e*f\n",
    "print(x)\n",
    "print(x.size, x.ndim, x.shape)\n",
    "x.sum(axis=0)\n",
    "x.std()\n"
   ]
  },
  {
   "cell_type": "code",
   "execution_count": 42,
   "id": "998db901",
   "metadata": {},
   "outputs": [
    {
     "name": "stdout",
     "output_type": "stream",
     "text": [
      "[0 1 2 3 4 5 6 7 8]\n",
      "9 1\n"
     ]
    },
    {
     "data": {
      "text/plain": [
       "array([5, 6, 7, 8])"
      ]
     },
     "execution_count": 42,
     "metadata": {},
     "output_type": "execute_result"
    }
   ],
   "source": [
    "import numpy as np\n",
    "d = np.arange(9)\n",
    "print(d)\n",
    "print(d.size, d.ndim)\n",
    "d[-4:12]"
   ]
  }
 ],
 "metadata": {
  "kernelspec": {
   "display_name": "Python 3 (ipykernel)",
   "language": "python",
   "name": "python3"
  },
  "language_info": {
   "codemirror_mode": {
    "name": "ipython",
    "version": 3
   },
   "file_extension": ".py",
   "mimetype": "text/x-python",
   "name": "python",
   "nbconvert_exporter": "python",
   "pygments_lexer": "ipython3",
   "version": "3.9.7"
  }
 },
 "nbformat": 4,
 "nbformat_minor": 5
}
