{
 "cells": [
  {
   "cell_type": "markdown",
   "id": "697d940c",
   "metadata": {},
   "source": [
    "# Python ka Chilla  \n",
    "## How to use Jupyter Note Book\n",
    "### Basics of Python\n",
    "\n"
   ]
  },
  {
   "cell_type": "markdown",
   "id": "115bf0bb",
   "metadata": {},
   "source": [
    "### **1- My first programme**"
   ]
  },
  {
   "cell_type": "code",
   "execution_count": 1,
   "id": "588f7e68",
   "metadata": {},
   "outputs": [
    {
     "name": "stdout",
     "output_type": "stream",
     "text": [
      "79\n",
      "Hello World\n",
      "Welcome to Python Learning Class\n"
     ]
    }
   ],
   "source": [
    "print(23+56)\n",
    "print(\"Hello World\")\n",
    "print('Welcome to Python Learning Class')"
   ]
  },
  {
   "cell_type": "markdown",
   "id": "24391370",
   "metadata": {},
   "source": [
    "### **2- Operators**"
   ]
  },
  {
   "cell_type": "code",
   "execution_count": 2,
   "id": "6ac985a9",
   "metadata": {
    "scrolled": true
   },
   "outputs": [
    {
     "name": "stdout",
     "output_type": "stream",
     "text": [
      "6\n",
      "2.0\n",
      "20\n",
      "3\n",
      "2\n",
      "8\n",
      "6.5\n"
     ]
    }
   ],
   "source": [
    "print(3+3)\n",
    "print(6/3)\n",
    "print(4*5)\n",
    "print(5-2)\n",
    "print(6//3)\n",
    "print(2**3)\n",
    "\n",
    "print(3**2/2*3/3+6-4)\n",
    "\n",
    "# PEMDAS --> Parenthesis Exponents Multiply Divide Addition Substraction\n",
    "#  left to right sequence for M D & A S"
   ]
  },
  {
   "cell_type": "markdown",
   "id": "a95963bd",
   "metadata": {},
   "source": [
    "### **3- Strings**"
   ]
  },
  {
   "cell_type": "code",
   "execution_count": 3,
   "id": "f5a6fa34",
   "metadata": {},
   "outputs": [
    {
     "name": "stdout",
     "output_type": "stream",
     "text": [
      "Hello World\n",
      "Welcome to Python Learning Class\n"
     ]
    }
   ],
   "source": [
    "print(\"Hello World\")\n",
    "print('Welcome to Python Learning Class')"
   ]
  },
  {
   "cell_type": "markdown",
   "id": "12db11e8",
   "metadata": {},
   "source": [
    "### **4- Comments**"
   ]
  },
  {
   "cell_type": "code",
   "execution_count": 4,
   "id": "877e5ae4",
   "metadata": {},
   "outputs": [
    {
     "name": "stdout",
     "output_type": "stream",
     "text": [
      "How Are you?\n",
      "We are learning python\n",
      "8\n"
     ]
    }
   ],
   "source": [
    "print(\"How Are you?\")   # press these to comment out (Ctrl + /)\n",
    "print('We are learning python') # print a string.\n",
    "print( 2 + 6) # print operator function with numbers"
   ]
  },
  {
   "cell_type": "markdown",
   "id": "b1c77dfd",
   "metadata": {},
   "source": [
    "### **5- Variables**"
   ]
  },
  {
   "cell_type": "code",
   "execution_count": 5,
   "id": "f4cabedd",
   "metadata": {},
   "outputs": [
    {
     "name": "stdout",
     "output_type": "stream",
     "text": [
      "5\n",
      "We are learning python\n",
      "15\n",
      "22\n",
      "<class 'int'>\n",
      "<class 'str'>\n",
      "Mangoes\n",
      "<class 'str'>\n"
     ]
    }
   ],
   "source": [
    "#  Variables: Objects containing specific values.\n",
    "x = 5 # variable containg a numeric value\n",
    "print(x) \n",
    "y = \"We are learning python\"  # Variable containg a string\n",
    "print(y)\n",
    "\n",
    "x = 15\n",
    "print(x)\n",
    "\n",
    "x = x + 7 \n",
    "print(x)\n",
    "\n",
    "# types/class of variables\n",
    "type(x)\n",
    "print(type(x))\n",
    "print(type(y))\n",
    "\n",
    "#  Rules to assign the varibles:\n",
    "# 1- The varibles should contain letters, numbers or underscores.\n",
    "# 2- Don't start with numbers.\n",
    "# 3- Spaces are not allowed.\n",
    "# 4- Do not use python kewords like if, del, def etc.\n",
    "# 5- Variable names should be short and discriptive.\n",
    "# 6- Case senstivity. Python is case senstive language. Try to use lower case.\n",
    "\n",
    "fruit_basket = \"Mangoes\"\n",
    "print(fruit_basket)\n",
    "print(type(fruit_basket))"
   ]
  },
  {
   "cell_type": "markdown",
   "id": "1550af35",
   "metadata": {},
   "source": [
    "### **6- Input Variables**"
   ]
  },
  {
   "cell_type": "code",
   "execution_count": 6,
   "id": "7dc625d4",
   "metadata": {},
   "outputs": [
    {
     "name": "stdout",
     "output_type": "stream",
     "text": [
      "Mangoes\n",
      "What is your favourit fruit? Apple\n",
      "Apple\n",
      "What is your name? Saud\n",
      "hello! Saud\n",
      "Hello! Saud\n",
      "What is your name? Saud\n",
      "How old are you? 40\n",
      "Hello Saud , You are still young\n"
     ]
    }
   ],
   "source": [
    "fruit_basket = \"Mangoes\"\n",
    "print(fruit_basket)\n",
    "\n",
    "# Input function simple\n",
    "fruit_basket = input(\"What is your favourit fruit? \")\n",
    "print(fruit_basket)\n",
    "\n",
    "# input function of 2nd stage\n",
    "name = input(\"What is your name? \")\n",
    "greetings = \"hello!\"\n",
    "print(greetings, name)\n",
    "print(\"Hello!\", name)\n",
    "\n",
    "#  3rd stage input function\n",
    "name = input(\"What is your name? \")\n",
    "age = input(\"How old are you? \")\n",
    "greetings = \"Hello\"\n",
    "print(greetings, name, \",\", \"You are still young\")"
   ]
  },
  {
   "cell_type": "markdown",
   "id": "9ab33389",
   "metadata": {},
   "source": [
    "### **7- Conditional Logics**"
   ]
  },
  {
   "cell_type": "code",
   "execution_count": 7,
   "id": "d056023c",
   "metadata": {},
   "outputs": [
    {
     "name": "stdout",
     "output_type": "stream",
     "text": [
      "True\n",
      "False\n",
      "True\n",
      "False\n",
      "True\n",
      "True\n",
      "False\n",
      "How old is Hammad? 5\n",
      "<class 'str'>\n",
      "Type of hammad_age is  <class 'int'>\n",
      "True\n"
     ]
    }
   ],
   "source": [
    "# Logical operators\n",
    "# Equal to                          ==\n",
    "# Not equal to                      !=\n",
    "# Less than                         <\n",
    "# Less than and equal to            <=\n",
    "# Greater than                      >\n",
    "# Greater than and equal to         >=\n",
    "\n",
    "print(4==4)\n",
    "print(4!=4)\n",
    "print(4>3)\n",
    "print(3>6)\n",
    "print(4<=5)\n",
    "print(5>=4)\n",
    "\n",
    "\n",
    "#  Application of logical operators\n",
    "\n",
    "hammad_age = 4\n",
    "age_at_school = 5\n",
    "print(hammad_age == age_at_school)\n",
    "\n",
    "# input function and logical operator\n",
    "\n",
    "age_at_school = 5\n",
    "hammad_age = input(\"How old is Hammad? \")\n",
    "print(type(hammad_age))\n",
    "hammad_age = int(hammad_age)\n",
    "print(\"Type of hammad_age is \", type(hammad_age))\n",
    "print(hammad_age >= age_at_school)"
   ]
  },
  {
   "cell_type": "markdown",
   "id": "cf36bbfe",
   "metadata": {},
   "source": [
    "### **8- Type Conversion**"
   ]
  },
  {
   "cell_type": "code",
   "execution_count": 8,
   "id": "b663835e",
   "metadata": {},
   "outputs": [
    {
     "name": "stdout",
     "output_type": "stream",
     "text": [
      "<class 'int'>\n",
      "<class 'float'>\n",
      "<class 'str'>\n",
      "20.2 Type of x is <class 'float'>\n",
      "what is your age? 40\n",
      "40 <class 'int'>\n"
     ]
    }
   ],
   "source": [
    "x = 10\n",
    "y = 10.2\n",
    "z = \"Hello\"\n",
    "print(type(x))\n",
    "print(type(y))\n",
    "print(type(z))\n",
    "\n",
    "# implicit type conversion\n",
    "x = x + y\n",
    "print(x, \"Type of x is\", type(x))\n",
    "\n",
    "#  explict type conversion\n",
    "age = input(\"what is your age? \")\n",
    "print(age, type(int(age)))"
   ]
  },
  {
   "cell_type": "markdown",
   "id": "9f158a6a",
   "metadata": {},
   "source": [
    "### **9- if else elif**"
   ]
  },
  {
   "cell_type": "code",
   "execution_count": 9,
   "id": "bb08ac30",
   "metadata": {},
   "outputs": [
    {
     "name": "stdout",
     "output_type": "stream",
     "text": [
      "what is Hammad age 8\n",
      "Hammad can join the school in the class according to his age group\n"
     ]
    }
   ],
   "source": [
    "hammad_age = int(input(\"what is Hammad age \"))\n",
    "age_for_school = 5\n",
    "if hammad_age == age_for_school:\n",
    "    print(\"Hammad can join the school\")\n",
    "elif hammad_age > age_for_school:\n",
    "    print(\"Hammad can join the school in the class according to his age group\")\n",
    "elif hammad_age <= 3:\n",
    "    print(\"Hammad is too young to join the school\")\n",
    "else:\n",
    "    print(\"Hammad can not join the school\")"
   ]
  },
  {
   "cell_type": "markdown",
   "id": "da9f2229",
   "metadata": {},
   "source": [
    "### **10- Functions**"
   ]
  },
  {
   "cell_type": "code",
   "execution_count": 10,
   "id": "814f7754",
   "metadata": {},
   "outputs": [
    {
     "name": "stdout",
     "output_type": "stream",
     "text": [
      "Example 1\n",
      "We are learning Python on Codanics YouTube channel\n",
      "We are learning Python on Codanics YouTube channel\n",
      "We are learning Python on Codanics YouTube channel\n",
      "We are learning Python on Codanics YouTube channel\n",
      "Example 2\n",
      "We are learning Python on Codanics YouTube channel\n",
      "We are learning Python on Codanics YouTube channel\n",
      "We are learning Python on Codanics YouTube channel\n",
      "We are learning Python on Codanics YouTube channel\n",
      "We are learning Python on Codanics YouTube channel\n",
      "Example 3\n",
      "We are learning Python on Codanics YouTube channel!\n",
      "We are learning Python on Codanics YouTube channel!\n",
      "We are learning Python on Codanics YouTube channel!\n",
      "We are learning Python on Codanics YouTube channel!\n",
      "We are learning Python on Codanics YouTube channel!\n",
      "Example 4\n",
      "Type something I will repeat it 5 times!We are learning python with baba Ammar\n",
      "We are learning python with baba Ammar\n",
      "We are learning python with baba Ammar\n",
      "We are learning python with baba Ammar\n",
      "We are learning python with baba Ammar\n",
      "We are learning python with baba Ammar\n",
      "Example 5\n",
      "What is the name of student? Saad\n",
      "What is the age of student? 4\n",
      "Saad can not join the school\n",
      "Example 6\n",
      "Defining a function of future\n",
      "Type your age 40\n",
      "After 20 years your age will be 60 years\n"
     ]
    }
   ],
   "source": [
    "# Defining a function\n",
    "print(\"Example 1\")\n",
    "def print_codanics():\n",
    "    print(\"We are learning Python on Codanics YouTube channel\")\n",
    "    print(\"We are learning Python on Codanics YouTube channel\")\n",
    "    print(\"We are learning Python on Codanics YouTube channel\")\n",
    "    print(\"We are learning Python on Codanics YouTube channel\")\n",
    "\n",
    "print_codanics()\n",
    "\n",
    "print(\"Example 2\")\n",
    "def print_codanics():\n",
    "    text = (\"We are learning Python on Codanics YouTube channel\")\n",
    "    print(text)\n",
    "    print(text)\n",
    "    print(text)\n",
    "    print(text)\n",
    "    print(text)\n",
    "\n",
    "print_codanics()\n",
    "\n",
    "print(\"Example 3\")\n",
    "def print_codanics(text):\n",
    "    print(text)\n",
    "    print(text)\n",
    "    print(text)\n",
    "    print(text)\n",
    "    print(text)\n",
    "\n",
    "print_codanics(\"We are learning Python on Codanics YouTube channel!\")    \n",
    "\n",
    "print(\"Example 4\")\n",
    "def print_codanics():\n",
    "    text = input(\"Type something I will repeat it 5 times!\")\n",
    "    print(text)\n",
    "    print(text)\n",
    "    print(text)\n",
    "    print(text)\n",
    "    print(text)\n",
    "\n",
    "print_codanics()\n",
    "\n",
    "print(\"Example 5\")\n",
    "def school_calculator():\n",
    "    name = input(\"What is the name of student? \")\n",
    "    age = int(input(\"What is the age of student? \"))\n",
    "    age_for_school = 5\n",
    "    if age == age_for_school:\n",
    "        print(name, \"can join the school\")\n",
    "    elif age > age_for_school:\n",
    "        print(name, \"can join the school in the class according to his age group\")\n",
    "    elif age <= 3:\n",
    "        print(name, \"is too young to join the school\")\n",
    "    else:\n",
    "        print(name,\"can not join the school\")\n",
    "\n",
    "school_calculator()\n",
    "\n",
    "print(\"Example 6\")\n",
    "print(\"Defining a function of future\")\n",
    "def future_age(age):\n",
    "    new_age = age + 20\n",
    "    return new_age\n",
    "\n",
    "your_age = int(input(\"Type your age \"))\n",
    "future_predicted_age = future_age(your_age)\n",
    "print(\"After 20 years your age will be\", future_predicted_age, \"years\")\n"
   ]
  },
  {
   "cell_type": "markdown",
   "id": "1e68b2ff",
   "metadata": {},
   "source": [
    "### **11- Loops**"
   ]
  },
  {
   "cell_type": "code",
   "execution_count": 11,
   "id": "cdb78ba5",
   "metadata": {},
   "outputs": [
    {
     "name": "stdout",
     "output_type": "stream",
     "text": [
      "0\n",
      "1\n",
      "2\n",
      "3\n",
      "4\n",
      "5\n",
      "6\n",
      "7\n",
      "8\n",
      "9\n",
      "10\n",
      "11\n",
      "Loop exampl with range function\n",
      "5\n",
      "6\n",
      "7\n",
      "8\n",
      "9\n",
      "Loop examples using array\n",
      "Mon\n",
      "Tue\n",
      "Wed\n",
      "Thu\n",
      "Fri\n",
      "Sat\n",
      "Sun\n",
      "Skips a value\n",
      "Mon\n",
      "Tue\n",
      "Wed\n",
      "Thu\n",
      "Sat\n",
      "Sun\n",
      "Loop stops\n",
      "Mon\n",
      "Tue\n",
      "Wed\n",
      "Thu\n"
     ]
    }
   ],
   "source": [
    "# While loop\n",
    "\n",
    "x = 0\n",
    "while (x <= 11):\n",
    "    print(x)\n",
    "    x = x + 1\n",
    "print(\"Loop exampl with range function\")\n",
    "for x in range(5,10):\n",
    "    print(x)\n",
    "\n",
    "print(\"Loop examples using array\")\n",
    "days = [\"Mon\", \"Tue\", \"Wed\", \"Thu\", \"Fri\", \"Sat\", \"Sun\"]\n",
    "for d in days:\n",
    "    print(d)\n",
    "print(\"Skips a value\")\n",
    "for d in days:\n",
    "    if (d == \"Fri\"):continue # Skips d\n",
    "    print(d)\n",
    "\n",
    "print(\"Loop stops\")\n",
    "for d in days:\n",
    "    if (d == \"Fri\"):break # loop stops\n",
    "    print(d)"
   ]
  },
  {
   "cell_type": "markdown",
   "id": "f4f89250",
   "metadata": {},
   "source": [
    "### **12- Import libraries**"
   ]
  },
  {
   "cell_type": "code",
   "execution_count": 12,
   "id": "9c3f69ae",
   "metadata": {},
   "outputs": [
    {
     "name": "stdout",
     "output_type": "stream",
     "text": [
      " The value of pi is 3.141592653589793\n",
      "301\n",
      "129.09944487358058\n"
     ]
    }
   ],
   "source": [
    "#  How to print the value of pi using math library\n",
    "\n",
    "import math\n",
    "\n",
    "print(\" The value of pi is\", math.pi)\n",
    "\n",
    "import statistics\n",
    "x = [151, 251, 351, 451]\n",
    "print(statistics.mean(x))\n",
    "print(statistics.stdev(x))"
   ]
  },
  {
   "cell_type": "markdown",
   "id": "85e3b7dc",
   "metadata": {},
   "source": [
    "### **13- troubleshooting**"
   ]
  },
  {
   "cell_type": "code",
   "execution_count": 13,
   "id": "96182b3f",
   "metadata": {},
   "outputs": [
    {
     "ename": "SyntaxError",
     "evalue": "invalid syntax (Temp/ipykernel_8836/2844817642.py, line 1)",
     "output_type": "error",
     "traceback": [
      "\u001b[1;36m  File \u001b[1;32m\"C:\\Users\\DESKTO~1\\AppData\\Local\\Temp/ipykernel_8836/2844817642.py\"\u001b[1;36m, line \u001b[1;32m1\u001b[0m\n\u001b[1;33m    print(We are learning python) # Syntax Error. To fix this error use quots.\u001b[0m\n\u001b[1;37m             ^\u001b[0m\n\u001b[1;31mSyntaxError\u001b[0m\u001b[1;31m:\u001b[0m invalid syntax\n"
     ]
    }
   ],
   "source": [
    "print(We are learning python) # Syntax Error. To fix this error use quots.\n"
   ]
  },
  {
   "cell_type": "code",
   "execution_count": 14,
   "id": "21c027f1",
   "metadata": {},
   "outputs": [
    {
     "ename": "ZeroDivisionError",
     "evalue": "division by zero",
     "output_type": "error",
     "traceback": [
      "\u001b[1;31m---------------------------------------------------------------------------\u001b[0m",
      "\u001b[1;31mZeroDivisionError\u001b[0m                         Traceback (most recent call last)",
      "\u001b[1;32mC:\\Users\\DESKTO~1\\AppData\\Local\\Temp/ipykernel_8836/2999241473.py\u001b[0m in \u001b[0;36m<module>\u001b[1;34m\u001b[0m\n\u001b[1;32m----> 1\u001b[1;33m \u001b[0mprint\u001b[0m\u001b[1;33m(\u001b[0m\u001b[1;36m25\u001b[0m\u001b[1;33m/\u001b[0m\u001b[1;36m0\u001b[0m\u001b[1;33m)\u001b[0m \u001b[1;31m# runtime error\u001b[0m\u001b[1;33m\u001b[0m\u001b[1;33m\u001b[0m\u001b[0m\n\u001b[0m",
      "\u001b[1;31mZeroDivisionError\u001b[0m: division by zero"
     ]
    }
   ],
   "source": [
    "print(25/0) # runtime error"
   ]
  }
 ],
 "metadata": {
  "kernelspec": {
   "display_name": "Python 3 (ipykernel)",
   "language": "python",
   "name": "python3"
  },
  "language_info": {
   "codemirror_mode": {
    "name": "ipython",
    "version": 3
   },
   "file_extension": ".py",
   "mimetype": "text/x-python",
   "name": "python",
   "nbconvert_exporter": "python",
   "pygments_lexer": "ipython3",
   "version": "3.9.7"
  }
 },
 "nbformat": 4,
 "nbformat_minor": 5
}
